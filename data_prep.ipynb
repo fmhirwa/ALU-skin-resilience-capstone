{
  "nbformat": 4,
  "nbformat_minor": 0,
  "metadata": {
    "colab": {
      "provenance": [],
      "gpuType": "T4",
      "authorship_tag": "ABX9TyOOQE8WgGjyD1mWX3FDBVah",
      "include_colab_link": true
    },
    "kernelspec": {
      "name": "python3",
      "display_name": "Python 3"
    },
    "language_info": {
      "name": "python"
    },
    "accelerator": "GPU"
  },
  "cells": [
    {
      "cell_type": "markdown",
      "metadata": {
        "id": "view-in-github",
        "colab_type": "text"
      },
      "source": [
        "<a href=\"https://colab.research.google.com/github/fmhirwa/ALU-skin-resilience-capstone/blob/main/data_prep.ipynb\" target=\"_parent\"><img src=\"https://colab.research.google.com/assets/colab-badge.svg\" alt=\"Open In Colab\"/></a>"
      ]
    },
    {
      "cell_type": "markdown",
      "source": [
        "1. Load"
      ],
      "metadata": {
        "id": "HTSQuWACZjpv"
      }
    },
    {
      "cell_type": "code",
      "execution_count": 4,
      "metadata": {
        "colab": {
          "base_uri": "https://localhost:8080/"
        },
        "id": "Mu6Mcsu9Yq_d",
        "outputId": "feb17a67-619a-4ec1-bfb3-c2015d0dfa04"
      },
      "outputs": [
        {
          "output_type": "stream",
          "name": "stdout",
          "text": [
            "Requirement already satisfied: pandas in /usr/local/lib/python3.11/dist-packages (2.2.2)\n",
            "Requirement already satisfied: numpy in /usr/local/lib/python3.11/dist-packages (2.0.2)\n",
            "Requirement already satisfied: geopandas in /usr/local/lib/python3.11/dist-packages (1.0.1)\n",
            "Requirement already satisfied: matplotlib in /usr/local/lib/python3.11/dist-packages (3.10.0)\n",
            "Requirement already satisfied: seaborn in /usr/local/lib/python3.11/dist-packages (0.13.2)\n",
            "Requirement already satisfied: scikit-learn in /usr/local/lib/python3.11/dist-packages (1.6.1)\n",
            "Requirement already satisfied: python-dateutil>=2.8.2 in /usr/local/lib/python3.11/dist-packages (from pandas) (2.9.0.post0)\n",
            "Requirement already satisfied: pytz>=2020.1 in /usr/local/lib/python3.11/dist-packages (from pandas) (2025.2)\n",
            "Requirement already satisfied: tzdata>=2022.7 in /usr/local/lib/python3.11/dist-packages (from pandas) (2025.2)\n",
            "Requirement already satisfied: pyogrio>=0.7.2 in /usr/local/lib/python3.11/dist-packages (from geopandas) (0.11.0)\n",
            "Requirement already satisfied: packaging in /usr/local/lib/python3.11/dist-packages (from geopandas) (24.2)\n",
            "Requirement already satisfied: pyproj>=3.3.0 in /usr/local/lib/python3.11/dist-packages (from geopandas) (3.7.1)\n",
            "Requirement already satisfied: shapely>=2.0.0 in /usr/local/lib/python3.11/dist-packages (from geopandas) (2.1.1)\n",
            "Requirement already satisfied: contourpy>=1.0.1 in /usr/local/lib/python3.11/dist-packages (from matplotlib) (1.3.2)\n",
            "Requirement already satisfied: cycler>=0.10 in /usr/local/lib/python3.11/dist-packages (from matplotlib) (0.12.1)\n",
            "Requirement already satisfied: fonttools>=4.22.0 in /usr/local/lib/python3.11/dist-packages (from matplotlib) (4.58.1)\n",
            "Requirement already satisfied: kiwisolver>=1.3.1 in /usr/local/lib/python3.11/dist-packages (from matplotlib) (1.4.8)\n",
            "Requirement already satisfied: pillow>=8 in /usr/local/lib/python3.11/dist-packages (from matplotlib) (11.2.1)\n",
            "Requirement already satisfied: pyparsing>=2.3.1 in /usr/local/lib/python3.11/dist-packages (from matplotlib) (3.2.3)\n",
            "Requirement already satisfied: scipy>=1.6.0 in /usr/local/lib/python3.11/dist-packages (from scikit-learn) (1.15.3)\n",
            "Requirement already satisfied: joblib>=1.2.0 in /usr/local/lib/python3.11/dist-packages (from scikit-learn) (1.5.1)\n",
            "Requirement already satisfied: threadpoolctl>=3.1.0 in /usr/local/lib/python3.11/dist-packages (from scikit-learn) (3.6.0)\n",
            "Requirement already satisfied: certifi in /usr/local/lib/python3.11/dist-packages (from pyogrio>=0.7.2->geopandas) (2025.4.26)\n",
            "Requirement already satisfied: six>=1.5 in /usr/local/lib/python3.11/dist-packages (from python-dateutil>=2.8.2->pandas) (1.17.0)\n"
          ]
        }
      ],
      "source": [
        "pip install pandas numpy geopandas matplotlib seaborn scikit-learn"
      ]
    },
    {
      "cell_type": "markdown",
      "source": [
        ".grid format to CSV"
      ],
      "metadata": {
        "id": "4dEAidVOeRGH"
      }
    },
    {
      "cell_type": "code",
      "source": [
        "!apt-get update -qq\n",
        "!apt-get install -y libeccodes-dev eccodes\n",
        "!pip install cfgrib xarray"
      ],
      "metadata": {
        "colab": {
          "base_uri": "https://localhost:8080/"
        },
        "id": "kclpxX3peU31",
        "outputId": "b88b8965-fa78-4399-83a4-ef94f7c631cc"
      },
      "execution_count": 14,
      "outputs": [
        {
          "output_type": "stream",
          "name": "stdout",
          "text": [
            "W: Skipping acquire of configured file 'main/source/Sources' as repository 'https://r2u.stat.illinois.edu/ubuntu jammy InRelease' does not seem to provide it (sources.list entry misspelt?)\n",
            "Reading package lists... Done\n",
            "Building dependency tree... Done\n",
            "Reading state information... Done\n",
            "E: Unable to locate package eccodes\n",
            "Requirement already satisfied: cfgrib in /usr/local/lib/python3.11/dist-packages (0.9.15.0)\n",
            "Requirement already satisfied: xarray in /usr/local/lib/python3.11/dist-packages (2025.3.1)\n",
            "Requirement already satisfied: attrs>=19.2 in /usr/local/lib/python3.11/dist-packages (from cfgrib) (25.3.0)\n",
            "Requirement already satisfied: click in /usr/local/lib/python3.11/dist-packages (from cfgrib) (8.2.1)\n",
            "Requirement already satisfied: eccodes>=0.9.8 in /usr/local/lib/python3.11/dist-packages (from cfgrib) (2.41.0)\n",
            "Requirement already satisfied: numpy in /usr/local/lib/python3.11/dist-packages (from cfgrib) (2.0.2)\n",
            "Requirement already satisfied: packaging>=23.2 in /usr/local/lib/python3.11/dist-packages (from xarray) (24.2)\n",
            "Requirement already satisfied: pandas>=2.1 in /usr/local/lib/python3.11/dist-packages (from xarray) (2.2.2)\n",
            "Requirement already satisfied: cffi in /usr/local/lib/python3.11/dist-packages (from eccodes>=0.9.8->cfgrib) (1.17.1)\n",
            "Requirement already satisfied: findlibs in /usr/local/lib/python3.11/dist-packages (from eccodes>=0.9.8->cfgrib) (0.1.1)\n",
            "Requirement already satisfied: python-dateutil>=2.8.2 in /usr/local/lib/python3.11/dist-packages (from pandas>=2.1->xarray) (2.9.0.post0)\n",
            "Requirement already satisfied: pytz>=2020.1 in /usr/local/lib/python3.11/dist-packages (from pandas>=2.1->xarray) (2025.2)\n",
            "Requirement already satisfied: tzdata>=2022.7 in /usr/local/lib/python3.11/dist-packages (from pandas>=2.1->xarray) (2025.2)\n",
            "Requirement already satisfied: six>=1.5 in /usr/local/lib/python3.11/dist-packages (from python-dateutil>=2.8.2->pandas>=2.1->xarray) (1.17.0)\n",
            "Requirement already satisfied: pycparser in /usr/local/lib/python3.11/dist-packages (from cffi->eccodes>=0.9.8->cfgrib) (2.22)\n"
          ]
        }
      ]
    },
    {
      "cell_type": "code",
      "source": [
        "# Temp Missing Engine\n",
        "import xarray as xr\n",
        "print(xr.backends.list_engines())"
      ],
      "metadata": {
        "colab": {
          "base_uri": "https://localhost:8080/"
        },
        "id": "6JuRAPYyinL_",
        "outputId": "e960e0f6-5770-4081-b3a5-9642da3fa7d7"
      },
      "execution_count": 19,
      "outputs": [
        {
          "output_type": "stream",
          "name": "stdout",
          "text": [
            "{'h5netcdf': <H5netcdfBackendEntrypoint>\n",
            "  Open netCDF (.nc, .nc4 and .cdf) and most HDF5 files using h5netcdf in Xarray\n",
            "  Learn more at https://docs.xarray.dev/en/stable/generated/xarray.backends.H5netcdfBackendEntrypoint.html, 'scipy': <ScipyBackendEntrypoint>\n",
            "  Open netCDF files (.nc, .nc4, .cdf and .gz) using scipy in Xarray\n",
            "  Learn more at https://docs.xarray.dev/en/stable/generated/xarray.backends.ScipyBackendEntrypoint.html, 'store': <StoreBackendEntrypoint>\n",
            "  Open AbstractDataStore instances in Xarray\n",
            "  Learn more at https://docs.xarray.dev/en/stable/generated/xarray.backends.StoreBackendEntrypoint.html}\n"
          ]
        }
      ]
    },
    {
      "cell_type": "code",
      "source": [
        "import xarray as xr\n",
        "import pandas as pd\n",
        "\n",
        "# Now the “cfgrib” engine should be available:\n",
        "ds = xr.open_dataset('base_data.grib', engine='cfgrib')\n",
        "\n",
        "# Flatten to a DataFrame:\n",
        "df_env = ds.to_dataframe().reset_index()\n",
        "\n",
        "# Example: rename and convert temperature if it’s called “t2m”:\n",
        "df_env = df_env.rename(columns={'t2m': 'temperature_k'})\n",
        "df_env['temperature_c'] = df_env['temperature_k'] - 273.15\n",
        "\n",
        "# Keep only the columns you need:\n",
        "df_env = df_env[['time', 'latitude', 'longitude', 'temperature_c']]"
      ],
      "metadata": {
        "colab": {
          "base_uri": "https://localhost:8080/",
          "height": 391
        },
        "id": "tIl9b589ea4s",
        "outputId": "5da2be75-fbc1-480b-db64-2fbf48484313"
      },
      "execution_count": 16,
      "outputs": [
        {
          "output_type": "error",
          "ename": "ValueError",
          "evalue": "unrecognized engine 'cfgrib' must be one of your download engines: ['h5netcdf', 'scipy', 'store']. To install additional dependencies, see:\nhttps://docs.xarray.dev/en/stable/user-guide/io.html \nhttps://docs.xarray.dev/en/stable/getting-started-guide/installing.html",
          "traceback": [
            "\u001b[0;31m---------------------------------------------------------------------------\u001b[0m",
            "\u001b[0;31mValueError\u001b[0m                                Traceback (most recent call last)",
            "\u001b[0;32m<ipython-input-16-d72aa06b503f>\u001b[0m in \u001b[0;36m<cell line: 0>\u001b[0;34m()\u001b[0m\n\u001b[1;32m      3\u001b[0m \u001b[0;34m\u001b[0m\u001b[0m\n\u001b[1;32m      4\u001b[0m \u001b[0;31m# Now the “cfgrib” engine should be available:\u001b[0m\u001b[0;34m\u001b[0m\u001b[0;34m\u001b[0m\u001b[0m\n\u001b[0;32m----> 5\u001b[0;31m \u001b[0mds\u001b[0m \u001b[0;34m=\u001b[0m \u001b[0mxr\u001b[0m\u001b[0;34m.\u001b[0m\u001b[0mopen_dataset\u001b[0m\u001b[0;34m(\u001b[0m\u001b[0;34m'base_data.grib'\u001b[0m\u001b[0;34m,\u001b[0m \u001b[0mengine\u001b[0m\u001b[0;34m=\u001b[0m\u001b[0;34m'cfgrib'\u001b[0m\u001b[0;34m)\u001b[0m\u001b[0;34m\u001b[0m\u001b[0;34m\u001b[0m\u001b[0m\n\u001b[0m\u001b[1;32m      6\u001b[0m \u001b[0;34m\u001b[0m\u001b[0m\n\u001b[1;32m      7\u001b[0m \u001b[0;31m# Flatten to a DataFrame:\u001b[0m\u001b[0;34m\u001b[0m\u001b[0;34m\u001b[0m\u001b[0m\n",
            "\u001b[0;32m/usr/local/lib/python3.11/dist-packages/xarray/backends/api.py\u001b[0m in \u001b[0;36mopen_dataset\u001b[0;34m(filename_or_obj, engine, chunks, cache, decode_cf, mask_and_scale, decode_times, decode_timedelta, use_cftime, concat_characters, decode_coords, drop_variables, inline_array, chunked_array_type, from_array_kwargs, backend_kwargs, **kwargs)\u001b[0m\n\u001b[1;32m    671\u001b[0m         \u001b[0mfrom_array_kwargs\u001b[0m \u001b[0;34m=\u001b[0m \u001b[0;34m{\u001b[0m\u001b[0;34m}\u001b[0m\u001b[0;34m\u001b[0m\u001b[0;34m\u001b[0m\u001b[0m\n\u001b[1;32m    672\u001b[0m \u001b[0;34m\u001b[0m\u001b[0m\n\u001b[0;32m--> 673\u001b[0;31m     \u001b[0mbackend\u001b[0m \u001b[0;34m=\u001b[0m \u001b[0mplugins\u001b[0m\u001b[0;34m.\u001b[0m\u001b[0mget_backend\u001b[0m\u001b[0;34m(\u001b[0m\u001b[0mengine\u001b[0m\u001b[0;34m)\u001b[0m\u001b[0;34m\u001b[0m\u001b[0;34m\u001b[0m\u001b[0m\n\u001b[0m\u001b[1;32m    674\u001b[0m \u001b[0;34m\u001b[0m\u001b[0m\n\u001b[1;32m    675\u001b[0m     decoders = _resolve_decoders_kwargs(\n",
            "\u001b[0;32m/usr/local/lib/python3.11/dist-packages/xarray/backends/plugins.py\u001b[0m in \u001b[0;36mget_backend\u001b[0;34m(engine)\u001b[0m\n\u001b[1;32m    200\u001b[0m         \u001b[0mengines\u001b[0m \u001b[0;34m=\u001b[0m \u001b[0mlist_engines\u001b[0m\u001b[0;34m(\u001b[0m\u001b[0;34m)\u001b[0m\u001b[0;34m\u001b[0m\u001b[0;34m\u001b[0m\u001b[0m\n\u001b[1;32m    201\u001b[0m         \u001b[0;32mif\u001b[0m \u001b[0mengine\u001b[0m \u001b[0;32mnot\u001b[0m \u001b[0;32min\u001b[0m \u001b[0mengines\u001b[0m\u001b[0;34m:\u001b[0m\u001b[0;34m\u001b[0m\u001b[0;34m\u001b[0m\u001b[0m\n\u001b[0;32m--> 202\u001b[0;31m             raise ValueError(\n\u001b[0m\u001b[1;32m    203\u001b[0m                 \u001b[0;34mf\"unrecognized engine '{engine}' must be one of your download engines: {list(engines)}. \"\u001b[0m\u001b[0;34m\u001b[0m\u001b[0;34m\u001b[0m\u001b[0m\n\u001b[1;32m    204\u001b[0m                 \u001b[0;34m\"To install additional dependencies, see:\\n\"\u001b[0m\u001b[0;34m\u001b[0m\u001b[0;34m\u001b[0m\u001b[0m\n",
            "\u001b[0;31mValueError\u001b[0m: unrecognized engine 'cfgrib' must be one of your download engines: ['h5netcdf', 'scipy', 'store']. To install additional dependencies, see:\nhttps://docs.xarray.dev/en/stable/user-guide/io.html \nhttps://docs.xarray.dev/en/stable/getting-started-guide/installing.html"
          ]
        }
      ]
    },
    {
      "cell_type": "code",
      "source": [
        "# GRIB has time, latitude, longitude, etc., this will flatten it:\n",
        "df_env = ds.to_dataframe().reset_index()\n",
        "\n",
        "# Temperature is named 't2m' in the GRIB:\n",
        "df_env = df_env.rename(columns={'t2m': 'temperature_k'})\n"
      ],
      "metadata": {
        "id": "X60TqFGOeejc"
      },
      "execution_count": null,
      "outputs": []
    },
    {
      "cell_type": "code",
      "source": [
        "# Convert Kelvin to Celsius, if needed:\n",
        "df_env['temperature_c'] = df_env['temperature_k'] - 273.15\n",
        "\n",
        "# Keep only relevant columns (e.g., time, latitude, longitude, temperature_c):\n",
        "df_env = df_env[['time', 'latitude', 'longitude', 'temperature_c']]\n"
      ],
      "metadata": {
        "id": "fsTCK6t6eoqg"
      },
      "execution_count": null,
      "outputs": []
    },
    {
      "cell_type": "code",
      "source": [
        "import pandas as pd\n",
        "import numpy as np\n",
        "import geopandas as gpd  # may not need; just geospatial; gree credits nope\n",
        "import matplotlib.pyplot as plt\n",
        "import seaborn as sns\n",
        "from sklearn.model_selection import train_test_split\n",
        "from sklearn.linear_model import LinearRegression\n",
        "from sklearn.metrics import mean_squared_error"
      ],
      "metadata": {
        "id": "LSQTUbVyYyiN"
      },
      "execution_count": null,
      "outputs": []
    },
    {
      "cell_type": "code",
      "source": [
        "df_temp = pd.read_csv('era5_temperature_nairobi.csv') #1.2921° S, 36.8219° E\n",
        "#f_air = pd.read_csv('air_quality_nairobi.csv')\n",
        "#df_survey = pd.read_csv('survey_responses.csv')"
      ],
      "metadata": {
        "id": "pbWh744NY0lh"
      },
      "execution_count": null,
      "outputs": []
    },
    {
      "cell_type": "code",
      "source": [
        "gdf_pollutants = gpd.read_file('sentinel5p_pm25.shp')\n"
      ],
      "metadata": {
        "id": "QTaCW76rY3A4"
      },
      "execution_count": null,
      "outputs": []
    },
    {
      "cell_type": "markdown",
      "source": [
        "Cleaning And Preprocessing"
      ],
      "metadata": {
        "id": "IwWsYXfHY5-8"
      }
    },
    {
      "cell_type": "code",
      "source": [
        "df.isnull().sum()\n",
        "df.info()"
      ],
      "metadata": {
        "id": "8ilpIrkyY8jh"
      },
      "execution_count": null,
      "outputs": []
    },
    {
      "cell_type": "code",
      "source": [
        "df_temp.dropna(subset=['temperature'], inplace=True)"
      ],
      "metadata": {
        "id": "cKCFMYfyY_f9"
      },
      "execution_count": null,
      "outputs": []
    },
    {
      "cell_type": "code",
      "source": [
        "df_air['pm25'] = df_air['pm25'].fillna(df_air['pm25'].median())\n"
      ],
      "metadata": {
        "id": "dGIr9rAyZCo6"
      },
      "execution_count": null,
      "outputs": []
    },
    {
      "cell_type": "code",
      "source": [
        "df_temp['date_time'] = pd.to_datetime(df_temp['date_time'])\n"
      ],
      "metadata": {
        "id": "pOtjNyMVZFLX"
      },
      "execution_count": null,
      "outputs": []
    },
    {
      "cell_type": "code",
      "source": [
        "df_env = pd.merge(df_temp, df_air, on=['date_time', 'location_id'], how='inner')\n"
      ],
      "metadata": {
        "id": "F9r6w3FOZHbT"
      },
      "execution_count": null,
      "outputs": []
    },
    {
      "cell_type": "markdown",
      "source": [
        "Base Analysis"
      ],
      "metadata": {
        "id": "-jZlhQvcZJ2b"
      }
    },
    {
      "cell_type": "markdown",
      "source": [
        "3.1 Stats"
      ],
      "metadata": {
        "id": "y5T70Qa7ZWjx"
      }
    },
    {
      "cell_type": "code",
      "source": [
        "df_env.describe()\n",
        "df_survey.describe()\n"
      ],
      "metadata": {
        "id": "HuDE8aW4ZLTs"
      },
      "execution_count": null,
      "outputs": []
    },
    {
      "cell_type": "markdown",
      "source": [
        "3.2 Time series Plot"
      ],
      "metadata": {
        "id": "R-WMU64-ZNSV"
      }
    },
    {
      "cell_type": "code",
      "source": [
        "plt.figure(figsize=(10,4))\n",
        "plt.plot(df_env['date_time'], df_env['temperature_c'])\n",
        "plt.title('Hourly Temperature')\n",
        "plt.show()\n"
      ],
      "metadata": {
        "id": "RPo7PORhZPu2"
      },
      "execution_count": null,
      "outputs": []
    },
    {
      "cell_type": "markdown",
      "source": [
        "3.3 Distribution"
      ],
      "metadata": {
        "id": "GtlYGv_jZRak"
      }
    },
    {
      "cell_type": "code",
      "source": [
        "sns.histplot(df_env['pm25_ug_m3'], bins=30)\n",
        "plt.title('PM2.5 Distribution')\n",
        "plt.show()\n"
      ],
      "metadata": {
        "id": "4oOPsUw7ZSzD"
      },
      "execution_count": null,
      "outputs": []
    },
    {
      "cell_type": "markdown",
      "source": [
        "3.4 Correlation Matrix"
      ],
      "metadata": {
        "id": "bOsnkjPKZZG9"
      }
    },
    {
      "cell_type": "code",
      "source": [
        "corr = df_env[['temperature_c','pm25_ug_m3','humidity','wind_speed']].corr()\n",
        "sns.heatmap(corr, annot=True, fmt=\".2f\")\n",
        "plt.title('Env Variable Correlations')\n",
        "plt.show()\n"
      ],
      "metadata": {
        "id": "5Wiam5ASZUpe"
      },
      "execution_count": null,
      "outputs": []
    },
    {
      "cell_type": "markdown",
      "source": [
        "4. Features and Averages"
      ],
      "metadata": {
        "id": "0dI4ihfRcjLh"
      }
    }
  ]
}